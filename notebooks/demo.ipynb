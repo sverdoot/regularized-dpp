{
 "cells": [
  {
   "cell_type": "code",
   "execution_count": 1,
   "metadata": {},
   "outputs": [],
   "source": [
    "%load_ext autoreload\n",
    "%autoreload 2\n",
    "\n",
    "import numpy as np\n",
    "import scipy as sp\n",
    "import scipy.linalg\n",
    "from pathlib import Path\n",
    "from collections import defaultdict\n",
    "\n",
    "from regdpp.general import ROOT_DIR\n",
    "from regdpp.sample import RegDPP\n",
    "from regdpp.utils import load_libsvm_data\n",
    "from regdpp.metrics import A_opt_criterion\n",
    "from regdpp.sdp import get_optimal_weights\n"
   ]
  },
  {
   "cell_type": "code",
   "execution_count": 2,
   "metadata": {},
   "outputs": [],
   "source": [
    "data_dir = Path(ROOT_DIR, 'data')"
   ]
  },
  {
   "cell_type": "code",
   "execution_count": 3,
   "metadata": {},
   "outputs": [],
   "source": [
    "dataset = \"mg_scale\""
   ]
  },
  {
   "cell_type": "code",
   "execution_count": 4,
   "metadata": {},
   "outputs": [],
   "source": [
    "X = load_libsvm_data(dataset)"
   ]
  },
  {
   "cell_type": "code",
   "execution_count": 5,
   "metadata": {},
   "outputs": [],
   "source": [
    "n, d = X.shape"
   ]
  },
  {
   "cell_type": "code",
   "execution_count": 6,
   "metadata": {},
   "outputs": [],
   "source": [
    "k_range = np.arange(d, 5*d, 3)\n",
    "n_repeat = 5\n",
    "A_criteria = defaultdict(lambda : np.empty((len(k_range), n_repeat)))"
   ]
  },
  {
   "cell_type": "code",
   "execution_count": 7,
   "metadata": {},
   "outputs": [],
   "source": [
    "config = {\n",
    "    \"methods\":\n",
    "        {\n",
    "            \"plain_reg_dpp\":\n",
    "                {\n",
    "                    \"name\": \"Reg DPP w/o SDP\",\n",
    "                    \"sdp\": False\n",
    "                },\n",
    "            \"reg_dpp_sdp\":\n",
    "                {\n",
    "                    \"name\": \"Reg DPP w/ SDP\",\n",
    "                    \"sdp\": True\n",
    "                }\n",
    "        }\n",
    "}"
   ]
  },
  {
   "cell_type": "code",
   "execution_count": 11,
   "metadata": {},
   "outputs": [
    {
     "data": {
      "application/vnd.jupyter.widget-view+json": {
       "model_id": "fd6fa8ddfb624a63b7a0f7b23ea06eb6",
       "version_major": 2,
       "version_minor": 0
      },
      "text/plain": [
       "  0%|          | 0/8 [00:00<?, ?it/s]"
      ]
     },
     "metadata": {},
     "output_type": "display_data"
    },
    {
     "name": "stdout",
     "output_type": "stream",
     "text": [
      "Looking for subset of size 6\n"
     ]
    },
    {
     "data": {
      "application/vnd.jupyter.widget-view+json": {
       "model_id": "cd9d811353b14704a7c4800b3e31d3a7",
       "version_major": 2,
       "version_minor": 0
      },
      "text/plain": [
       "  0%|          | 0/5 [00:00<?, ?it/s]"
      ]
     },
     "metadata": {},
     "output_type": "display_data"
    },
    {
     "name": "stdout",
     "output_type": "stream",
     "text": [
      "Time of sampling: 0.580 +- 0.176\n",
      "Looking for subset of size 9\n"
     ]
    },
    {
     "data": {
      "application/vnd.jupyter.widget-view+json": {
       "model_id": "1d6439915fbc4d51b287e41a8cd99282",
       "version_major": 2,
       "version_minor": 0
      },
      "text/plain": [
       "  0%|          | 0/5 [00:00<?, ?it/s]"
      ]
     },
     "metadata": {},
     "output_type": "display_data"
    },
    {
     "name": "stdout",
     "output_type": "stream",
     "text": [
      "Time of sampling: 0.522 +- 0.138\n",
      "Looking for subset of size 12\n"
     ]
    },
    {
     "data": {
      "application/vnd.jupyter.widget-view+json": {
       "model_id": "a500d1538a4e4020bcdc0e2a7a3cf46b",
       "version_major": 2,
       "version_minor": 0
      },
      "text/plain": [
       "  0%|          | 0/5 [00:00<?, ?it/s]"
      ]
     },
     "metadata": {},
     "output_type": "display_data"
    },
    {
     "name": "stdout",
     "output_type": "stream",
     "text": [
      "Time of sampling: 0.675 +- 0.422\n",
      "Looking for subset of size 15\n"
     ]
    },
    {
     "data": {
      "application/vnd.jupyter.widget-view+json": {
       "model_id": "781c5e3de91b46519833f338c9f8c7c7",
       "version_major": 2,
       "version_minor": 0
      },
      "text/plain": [
       "  0%|          | 0/5 [00:00<?, ?it/s]"
      ]
     },
     "metadata": {},
     "output_type": "display_data"
    },
    {
     "name": "stdout",
     "output_type": "stream",
     "text": [
      "Time of sampling: 0.567 +- 0.153\n",
      "Looking for subset of size 18\n"
     ]
    },
    {
     "data": {
      "application/vnd.jupyter.widget-view+json": {
       "model_id": "30177673e37848bbb91389a7ff14491c",
       "version_major": 2,
       "version_minor": 0
      },
      "text/plain": [
       "  0%|          | 0/5 [00:00<?, ?it/s]"
      ]
     },
     "metadata": {},
     "output_type": "display_data"
    },
    {
     "name": "stdout",
     "output_type": "stream",
     "text": [
      "Time of sampling: 0.535 +- 0.288\n",
      "Looking for subset of size 21\n"
     ]
    },
    {
     "data": {
      "application/vnd.jupyter.widget-view+json": {
       "model_id": "71049e7038974fb3960b6d2a81527e96",
       "version_major": 2,
       "version_minor": 0
      },
      "text/plain": [
       "  0%|          | 0/5 [00:00<?, ?it/s]"
      ]
     },
     "metadata": {},
     "output_type": "display_data"
    },
    {
     "name": "stdout",
     "output_type": "stream",
     "text": [
      "Time of sampling: 0.521 +- 0.202\n",
      "Looking for subset of size 24\n"
     ]
    },
    {
     "data": {
      "application/vnd.jupyter.widget-view+json": {
       "model_id": "e17aece4f7554abab5527b4ce77e979b",
       "version_major": 2,
       "version_minor": 0
      },
      "text/plain": [
       "  0%|          | 0/5 [00:00<?, ?it/s]"
      ]
     },
     "metadata": {},
     "output_type": "display_data"
    },
    {
     "name": "stdout",
     "output_type": "stream",
     "text": [
      "Time of sampling: 0.465 +- 0.103\n",
      "Looking for subset of size 27\n"
     ]
    },
    {
     "data": {
      "application/vnd.jupyter.widget-view+json": {
       "model_id": "b0d26a78e3ba4fcdab7241e9ad1fca57",
       "version_major": 2,
       "version_minor": 0
      },
      "text/plain": [
       "  0%|          | 0/5 [00:00<?, ?it/s]"
      ]
     },
     "metadata": {},
     "output_type": "display_data"
    },
    {
     "name": "stdout",
     "output_type": "stream",
     "text": [
      "Time of sampling: 0.484 +- 0.141\n"
     ]
    },
    {
     "data": {
      "application/vnd.jupyter.widget-view+json": {
       "model_id": "d15ebf0701cd48c3ad0d856b36c222b9",
       "version_major": 2,
       "version_minor": 0
      },
      "text/plain": [
       "  0%|          | 0/8 [00:00<?, ?it/s]"
      ]
     },
     "metadata": {},
     "output_type": "display_data"
    },
    {
     "name": "stdout",
     "output_type": "stream",
     "text": [
      "Looking for subset of size 6\n"
     ]
    },
    {
     "data": {
      "application/vnd.jupyter.widget-view+json": {
       "model_id": "83b17fa2953d4cedab2574ccdf04c9bb",
       "version_major": 2,
       "version_minor": 0
      },
      "text/plain": [
       "  0%|          | 0/5 [00:00<?, ?it/s]"
      ]
     },
     "metadata": {},
     "output_type": "display_data"
    },
    {
     "name": "stdout",
     "output_type": "stream",
     "text": [
      "Time of sampling: 0.674 +- 0.196\n",
      "Looking for subset of size 9\n"
     ]
    },
    {
     "data": {
      "application/vnd.jupyter.widget-view+json": {
       "model_id": "d463aa0bcb564744b574a0f7bdf265f5",
       "version_major": 2,
       "version_minor": 0
      },
      "text/plain": [
       "  0%|          | 0/5 [00:00<?, ?it/s]"
      ]
     },
     "metadata": {},
     "output_type": "display_data"
    },
    {
     "name": "stdout",
     "output_type": "stream",
     "text": [
      "Time of sampling: 0.811 +- 0.198\n",
      "Looking for subset of size 12\n"
     ]
    },
    {
     "data": {
      "application/vnd.jupyter.widget-view+json": {
       "model_id": "78de16ace3b842698605938d943fe7c3",
       "version_major": 2,
       "version_minor": 0
      },
      "text/plain": [
       "  0%|          | 0/5 [00:00<?, ?it/s]"
      ]
     },
     "metadata": {},
     "output_type": "display_data"
    },
    {
     "name": "stdout",
     "output_type": "stream",
     "text": [
      "Time of sampling: 0.897 +- 0.953\n",
      "Looking for subset of size 15\n"
     ]
    },
    {
     "data": {
      "application/vnd.jupyter.widget-view+json": {
       "model_id": "673ff0a380da4b82b49af3d4128281f9",
       "version_major": 2,
       "version_minor": 0
      },
      "text/plain": [
       "  0%|          | 0/5 [00:00<?, ?it/s]"
      ]
     },
     "metadata": {},
     "output_type": "display_data"
    },
    {
     "name": "stdout",
     "output_type": "stream",
     "text": [
      "Time of sampling: 1.113 +- 1.043\n",
      "Looking for subset of size 18\n"
     ]
    },
    {
     "data": {
      "application/vnd.jupyter.widget-view+json": {
       "model_id": "c4870c09746e45f59f21e4a8cb960f13",
       "version_major": 2,
       "version_minor": 0
      },
      "text/plain": [
       "  0%|          | 0/5 [00:00<?, ?it/s]"
      ]
     },
     "metadata": {},
     "output_type": "display_data"
    },
    {
     "name": "stdout",
     "output_type": "stream",
     "text": [
      "Time of sampling: 0.879 +- 0.791\n",
      "Looking for subset of size 21\n"
     ]
    },
    {
     "data": {
      "application/vnd.jupyter.widget-view+json": {
       "model_id": "30cf56734f3c4e6a8868c200efc58a05",
       "version_major": 2,
       "version_minor": 0
      },
      "text/plain": [
       "  0%|          | 0/5 [00:00<?, ?it/s]"
      ]
     },
     "metadata": {},
     "output_type": "display_data"
    },
    {
     "name": "stdout",
     "output_type": "stream",
     "text": [
      "Time of sampling: 0.684 +- 0.328\n",
      "Looking for subset of size 24\n"
     ]
    },
    {
     "data": {
      "application/vnd.jupyter.widget-view+json": {
       "model_id": "065cf32eaf7f4c22bd128c52d6a423a7",
       "version_major": 2,
       "version_minor": 0
      },
      "text/plain": [
       "  0%|          | 0/5 [00:00<?, ?it/s]"
      ]
     },
     "metadata": {},
     "output_type": "display_data"
    },
    {
     "name": "stdout",
     "output_type": "stream",
     "text": [
      "Time of sampling: 0.553 +- 0.116\n",
      "Looking for subset of size 27\n"
     ]
    },
    {
     "data": {
      "application/vnd.jupyter.widget-view+json": {
       "model_id": "beb8880b35524c6a994ad941d325159d",
       "version_major": 2,
       "version_minor": 0
      },
      "text/plain": [
       "  0%|          | 0/5 [00:00<?, ?it/s]"
      ]
     },
     "metadata": {},
     "output_type": "display_data"
    },
    {
     "name": "stdout",
     "output_type": "stream",
     "text": [
      "Time of sampling: 0.537 +- 0.222\n"
     ]
    }
   ],
   "source": [
    "# from tqdm import tqdm\n",
    "from tqdm.notebook import trange, tqdm\n",
    "\n",
    "for method, params in config[\"methods\"].items():\n",
    "    for k_id, k in tqdm(list(enumerate(k_range))):\n",
    "        print(f'Looking for subset of size {k}')\n",
    "        A = 1./n * np.eye(d)\n",
    "\n",
    "        if \"reg_dpp\" in method:\n",
    "            sampler = RegDPP()\n",
    "            if params[\"sdp\"]:\n",
    "                p = get_optimal_weights(X, A, k)\n",
    "            else:\n",
    "                p = np.ones(n) * k / n\n",
    "        else:\n",
    "            raise KeyError(\"sampler undefined\")\n",
    "\n",
    "        for rep_id in trange(n_repeat):\n",
    "            S = sampler(X, A, p)\n",
    "\n",
    "            X_S = X[S]\n",
    "            subset_cov = X_S.T @ X_S\n",
    "            A_optimal_criterium = A_opt_criterion(subset_cov, A)\n",
    "            A_criteria[params[\"name\"]][k_id, rep_id] = A_optimal_criterium\n",
    "        print(f'Time of sampling: {np.mean(sampler.time_cnts):.3f} +- {1.96 * np.std(sampler.time_cnts):.3f}')\n"
   ]
  },
  {
   "cell_type": "code",
   "execution_count": 12,
   "metadata": {},
   "outputs": [
    {
     "data": {
      "image/png": "[encoded data removed]",
      "text/plain": [
       "<Figure size 432x288 with 1 Axes>"
      ]
     },
     "metadata": {},
     "output_type": "display_data"
    }
   ],
   "source": [
    "from matplotlib import pyplot as plt\n",
    "import seaborn as sns\n",
    "from scipy import stats\n",
    "\n",
    "sns.set_theme()\n",
    "\n",
    "for name, a_value in A_criteria.items():\n",
    "    plt.plot(k_range / d, a_value.mean(1), label=name)\n",
    "\n",
    "    ci = stats.bootstrap((a_value.T,), np.mean, axis=0, confidence_level=0.95).confidence_interval\n",
    "    plt.fill_between(k_range / d, ci.low, ci.high, alpha=0.3)\n",
    "\n",
    "plt.ylim(0, 11)\n",
    "plt.xlabel('Subset size (multiple of d)')\n",
    "plt.ylabel('A-optimality value')\n",
    "plt.title(f'dataset {dataset}')\n",
    "plt.legend()\n",
    "plt.show()"
   ]
  },
  {
   "cell_type": "code",
   "execution_count": null,
   "metadata": {},
   "outputs": [],
   "source": []
  }
 ],
 "metadata": {
  "interpreter": {
   "hash": "90d490e9fadc963f5ada6ae6eb88a4567fb5dc9f1de3ec6e400964330a66b167"
  },
  "kernelspec": {
   "display_name": "Python 3.9.0 64-bit ('regdpp': conda)",
   "language": "python",
   "name": "python3"
  },
  "language_info": {
   "codemirror_mode": {
    "name": "ipython",
    "version": 3
   },
   "file_extension": ".py",
   "mimetype": "text/x-python",
   "name": "python",
   "nbconvert_exporter": "python",
   "pygments_lexer": "ipython3",
   "version": "3.9.0"
  },
  "orig_nbformat": 4
 },
 "nbformat": 4,
 "nbformat_minor": 2
}
