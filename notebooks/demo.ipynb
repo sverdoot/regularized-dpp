{
 "cells": [
  {
   "cell_type": "code",
   "execution_count": 1,
   "metadata": {},
   "outputs": [],
   "source": [
    "%load_ext autoreload\n",
    "%autoreload 2\n",
    "\n",
    "import numpy as np\n",
    "import scipy as sp\n",
    "import scipy.linalg\n",
    "from pathlib import Path\n",
    "\n",
    "from dppy.finite_dpps import FiniteDPP\n",
    "\n",
    "from regdpp.general import ROOT_DIR\n",
    "from regdpp.sample import RegDPP"
   ]
  },
  {
   "cell_type": "code",
   "execution_count": 2,
   "metadata": {},
   "outputs": [],
   "source": [
    "data_dir = Path(ROOT_DIR, 'data')"
   ]
  },
  {
   "cell_type": "code",
   "execution_count": 3,
   "metadata": {},
   "outputs": [],
   "source": [
    "dataset = \"mg_scale\""
   ]
  },
  {
   "cell_type": "code",
   "execution_count": 4,
   "metadata": {},
   "outputs": [],
   "source": [
    "data = np.loadtxt(Path(data_dir, f'{dataset}.csv'), dtype=str)"
   ]
  },
  {
   "cell_type": "code",
   "execution_count": 5,
   "metadata": {},
   "outputs": [],
   "source": [
    "f = lambda x: x[2:]\n",
    "f = np.vectorize(f)\n",
    "X = f(data[:, 1:]).astype(float)\n",
    "Y = data[:, :1].astype(float)"
   ]
  },
  {
   "cell_type": "code",
   "execution_count": 6,
   "metadata": {},
   "outputs": [],
   "source": [
    "n, d = X.shape"
   ]
  },
  {
   "cell_type": "code",
   "execution_count": 11,
   "metadata": {},
   "outputs": [
    {
     "data": {
      "application/vnd.jupyter.widget-view+json": {
       "model_id": "96ea091635194b298583c04bcfc710bd",
       "version_major": 2,
       "version_minor": 0
      },
      "text/plain": [
       "  0%|          | 0/8 [00:00<?, ?it/s]"
      ]
     },
     "metadata": {},
     "output_type": "display_data"
    },
    {
     "name": "stdout",
     "output_type": "stream",
     "text": [
      "Looking for subset of size 6\n"
     ]
    },
    {
     "data": {
      "application/vnd.jupyter.widget-view+json": {
       "model_id": "05988289cd0b4ae18a0f34db257340be",
       "version_major": 2,
       "version_minor": 0
      },
      "text/plain": [
       "  0%|          | 0/5 [00:00<?, ?it/s]"
      ]
     },
     "metadata": {},
     "output_type": "display_data"
    },
    {
     "name": "stdout",
     "output_type": "stream",
     "text": [
      "Time of sampling: 0.758 +- 0.449\n",
      "Looking for subset of size 9\n"
     ]
    },
    {
     "data": {
      "application/vnd.jupyter.widget-view+json": {
       "model_id": "6a0b972237004c6894d18ac61773a948",
       "version_major": 2,
       "version_minor": 0
      },
      "text/plain": [
       "  0%|          | 0/5 [00:00<?, ?it/s]"
      ]
     },
     "metadata": {},
     "output_type": "display_data"
    },
    {
     "name": "stdout",
     "output_type": "stream",
     "text": [
      "Time of sampling: 0.756 +- 0.109\n",
      "Looking for subset of size 12\n"
     ]
    },
    {
     "data": {
      "application/vnd.jupyter.widget-view+json": {
       "model_id": "9b23bd31c97946e6a1af93e699096d66",
       "version_major": 2,
       "version_minor": 0
      },
      "text/plain": [
       "  0%|          | 0/5 [00:00<?, ?it/s]"
      ]
     },
     "metadata": {},
     "output_type": "display_data"
    },
    {
     "name": "stdout",
     "output_type": "stream",
     "text": [
      "Time of sampling: 0.732 +- 0.096\n",
      "Looking for subset of size 15\n"
     ]
    },
    {
     "data": {
      "application/vnd.jupyter.widget-view+json": {
       "model_id": "b36a149a82584f339f32f6f234fb6c45",
       "version_major": 2,
       "version_minor": 0
      },
      "text/plain": [
       "  0%|          | 0/5 [00:00<?, ?it/s]"
      ]
     },
     "metadata": {},
     "output_type": "display_data"
    },
    {
     "name": "stdout",
     "output_type": "stream",
     "text": [
      "Time of sampling: 0.770 +- 0.285\n",
      "Looking for subset of size 18\n"
     ]
    },
    {
     "data": {
      "application/vnd.jupyter.widget-view+json": {
       "model_id": "90378f77d1ed4bb58200707aa062fd1c",
       "version_major": 2,
       "version_minor": 0
      },
      "text/plain": [
       "  0%|          | 0/5 [00:00<?, ?it/s]"
      ]
     },
     "metadata": {},
     "output_type": "display_data"
    },
    {
     "name": "stdout",
     "output_type": "stream",
     "text": [
      "Time of sampling: 0.764 +- 0.248\n",
      "Looking for subset of size 21\n"
     ]
    },
    {
     "data": {
      "application/vnd.jupyter.widget-view+json": {
       "model_id": "ad245c2952d84b669794a95f98f11276",
       "version_major": 2,
       "version_minor": 0
      },
      "text/plain": [
       "  0%|          | 0/5 [00:00<?, ?it/s]"
      ]
     },
     "metadata": {},
     "output_type": "display_data"
    },
    {
     "name": "stdout",
     "output_type": "stream",
     "text": [
      "Time of sampling: 0.714 +- 0.208\n",
      "Looking for subset of size 24\n"
     ]
    },
    {
     "data": {
      "application/vnd.jupyter.widget-view+json": {
       "model_id": "f64705f9d5054853ba4e8dadb5f36629",
       "version_major": 2,
       "version_minor": 0
      },
      "text/plain": [
       "  0%|          | 0/5 [00:00<?, ?it/s]"
      ]
     },
     "metadata": {},
     "output_type": "display_data"
    },
    {
     "name": "stdout",
     "output_type": "stream",
     "text": [
      "Time of sampling: 0.882 +- 0.274\n",
      "Looking for subset of size 27\n"
     ]
    },
    {
     "data": {
      "application/vnd.jupyter.widget-view+json": {
       "model_id": "81d35571ca2f412ca32762170f56ee69",
       "version_major": 2,
       "version_minor": 0
      },
      "text/plain": [
       "  0%|          | 0/5 [00:00<?, ?it/s]"
      ]
     },
     "metadata": {},
     "output_type": "display_data"
    },
    {
     "name": "stdout",
     "output_type": "stream",
     "text": [
      "Time of sampling: 0.759 +- 0.284\n"
     ]
    }
   ],
   "source": [
    "# from tqdm import tqdm\n",
    "from tqdm.notebook import trange, tqdm\n",
    "\n",
    "k_range = np.arange(d, 5*d, 3)\n",
    "n_repeat = 5\n",
    "A_criteria = np.empty((len(k_range), n_repeat))\n",
    "times = np.empty(len(k_range))\n",
    "\n",
    "for k_id, k in tqdm(list(enumerate(k_range))):\n",
    "    print(f'Looking for subset of size {k}')\n",
    "    A = 1./n * np.eye(d)\n",
    "    p = np.ones(n) * k / n\n",
    "\n",
    "    sampler = RegDPP()\n",
    "    for rep_id in trange(n_repeat):\n",
    "        S = sampler(X, A, p)\n",
    "\n",
    "        X_S = X[S]\n",
    "        subset_cov = X_S.T @ X_S\n",
    "        A_optimal_criterium = np.trace(np.linalg.inv(subset_cov + A))\n",
    "        A_criteria[k_id, rep_id] = A_optimal_criterium\n",
    "    print(f'Time of sampling: {np.mean(sampler.time_cnts):.3f} +- {1.96 * np.std(sampler.time_cnts):.3f}')\n"
   ]
  },
  {
   "cell_type": "code",
   "execution_count": 12,
   "metadata": {},
   "outputs": [
    {
     "data": {
      "image/png": "[encoded data removed]",
      "text/plain": [
       "<Figure size 432x288 with 1 Axes>"
      ]
     },
     "metadata": {},
     "output_type": "display_data"
    }
   ],
   "source": [
    "from matplotlib import pyplot as plt\n",
    "import seaborn as sns\n",
    "from scipy import stats\n",
    "\n",
    "sns.set_theme()\n",
    "\n",
    "label = \"Considered methot (without SDP)\"\n",
    "plt.plot(k_range / d, A_criteria.mean(1), label=label)\n",
    "\n",
    "ci = stats.bootstrap((A_criteria.T,), np.mean, axis=0, confidence_level=0.95).confidence_interval\n",
    "plt.fill_between(k_range / d, ci.low, ci.high, alpha=0.3)\n",
    "\n",
    "plt.ylim(0, 11)\n",
    "plt.xlabel('Subset size (multiple of d)')\n",
    "plt.ylabel('A-optimality value')\n",
    "plt.title(f'dataset {dataset}')\n",
    "plt.legend()\n",
    "plt.show()"
   ]
  },
  {
   "cell_type": "code",
   "execution_count": null,
   "metadata": {},
   "outputs": [],
   "source": []
  }
 ],
 "metadata": {
  "interpreter": {
   "hash": "90d490e9fadc963f5ada6ae6eb88a4567fb5dc9f1de3ec6e400964330a66b167"
  },
  "kernelspec": {
   "display_name": "Python 3.9.0 64-bit ('regdpp': conda)",
   "language": "python",
   "name": "python3"
  },
  "language_info": {
   "codemirror_mode": {
    "name": "ipython",
    "version": 3
   },
   "file_extension": ".py",
   "mimetype": "text/x-python",
   "name": "python",
   "nbconvert_exporter": "python",
   "pygments_lexer": "ipython3",
   "version": "3.9.0"
  },
  "orig_nbformat": 4
 },
 "nbformat": 4,
 "nbformat_minor": 2
}
